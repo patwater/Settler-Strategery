{
 "cells": [
  {
   "cell_type": "code",
   "execution_count": 1,
   "metadata": {},
   "outputs": [],
   "source": [
    "import numpy as np\n",
    "import pandas as pd\n",
    "import matplotlib.pyplot as plt\n",
    "import seaborn as sns\n",
    "from collections import Counter\n",
    "\n",
    "%matplotlib inline"
   ]
  },
  {
   "cell_type": "code",
   "execution_count": 2,
   "metadata": {},
   "outputs": [],
   "source": [
    "# our engine\n",
    "def catanSim(turns):\n",
    "    gameRolls = []\n",
    "    for i in xrange(turns):\n",
    "        dieRoll = np.random.randint(1,7)+np.random.randint(1,7)\n",
    "        gameRolls.append(dieRoll)\n",
    "    counts = Counter(gameRolls)\n",
    "    \n",
    "    gameProbs = {}\n",
    "    for i in counts: \n",
    "        gameProbs[i] = float(counts[i])/float(turns)\n",
    "        \n",
    "    return gameProbs"
   ]
  },
  {
   "cell_type": "code",
   "execution_count": 3,
   "metadata": {},
   "outputs": [],
   "source": [
    "#what fires the engine many, many times\n",
    "def monteCarlo(iterations = 10000, turns = 60):\n",
    "    # instantiating our dataDict\n",
    "    simResults = {}\n",
    "    for i in xrange(2,13):\n",
    "        simResults[i] = []\n",
    "        \n",
    "    # running our \"games\" \n",
    "    for i in xrange(iterations):\n",
    "        oneGame = catanSim(turns) \n",
    "\n",
    "        for i in xrange(2,13):\n",
    "            simResults[i].append(oneGame.get(i,0))\n",
    "    \n",
    "    #putting into a dataframe b/c I'm lazy and like the built-in stats \n",
    "    df = pd.DataFrame()\n",
    "    for i in simResults:\n",
    "        df[i] = simResults[i]\n",
    "    \n",
    "    return turns, df"
   ]
  },
  {
   "cell_type": "code",
   "execution_count": 23,
   "metadata": {},
   "outputs": [
    {
     "data": {
      "text/html": [
       "<div>\n",
       "<style scoped>\n",
       "    .dataframe tbody tr th:only-of-type {\n",
       "        vertical-align: middle;\n",
       "    }\n",
       "\n",
       "    .dataframe tbody tr th {\n",
       "        vertical-align: top;\n",
       "    }\n",
       "\n",
       "    .dataframe thead th {\n",
       "        text-align: right;\n",
       "    }\n",
       "</style>\n",
       "<table border=\"1\" class=\"dataframe\">\n",
       "  <thead>\n",
       "    <tr style=\"text-align: right;\">\n",
       "      <th></th>\n",
       "      <th>2</th>\n",
       "      <th>3</th>\n",
       "      <th>4</th>\n",
       "      <th>5</th>\n",
       "      <th>6</th>\n",
       "      <th>7</th>\n",
       "      <th>8</th>\n",
       "      <th>9</th>\n",
       "      <th>10</th>\n",
       "      <th>11</th>\n",
       "      <th>12</th>\n",
       "    </tr>\n",
       "  </thead>\n",
       "  <tbody>\n",
       "    <tr>\n",
       "      <th>count</th>\n",
       "      <td>100000.000000</td>\n",
       "      <td>100000.000000</td>\n",
       "      <td>100000.000000</td>\n",
       "      <td>100000.000000</td>\n",
       "      <td>100000.000000</td>\n",
       "      <td>100000.000000</td>\n",
       "      <td>100000.000000</td>\n",
       "      <td>100000.000000</td>\n",
       "      <td>100000.000000</td>\n",
       "      <td>100000.000000</td>\n",
       "      <td>100000.000000</td>\n",
       "    </tr>\n",
       "    <tr>\n",
       "      <th>mean</th>\n",
       "      <td>0.027869</td>\n",
       "      <td>0.055572</td>\n",
       "      <td>0.083308</td>\n",
       "      <td>0.111151</td>\n",
       "      <td>0.138790</td>\n",
       "      <td>0.166314</td>\n",
       "      <td>0.138999</td>\n",
       "      <td>0.111239</td>\n",
       "      <td>0.083418</td>\n",
       "      <td>0.055531</td>\n",
       "      <td>0.027810</td>\n",
       "    </tr>\n",
       "    <tr>\n",
       "      <th>std</th>\n",
       "      <td>0.021302</td>\n",
       "      <td>0.029584</td>\n",
       "      <td>0.035745</td>\n",
       "      <td>0.040514</td>\n",
       "      <td>0.044660</td>\n",
       "      <td>0.048126</td>\n",
       "      <td>0.044614</td>\n",
       "      <td>0.040528</td>\n",
       "      <td>0.035660</td>\n",
       "      <td>0.029544</td>\n",
       "      <td>0.021216</td>\n",
       "    </tr>\n",
       "    <tr>\n",
       "      <th>min</th>\n",
       "      <td>0.000000</td>\n",
       "      <td>0.000000</td>\n",
       "      <td>0.000000</td>\n",
       "      <td>0.000000</td>\n",
       "      <td>0.000000</td>\n",
       "      <td>0.000000</td>\n",
       "      <td>0.000000</td>\n",
       "      <td>0.000000</td>\n",
       "      <td>0.000000</td>\n",
       "      <td>0.000000</td>\n",
       "      <td>0.000000</td>\n",
       "    </tr>\n",
       "    <tr>\n",
       "      <th>25%</th>\n",
       "      <td>0.016667</td>\n",
       "      <td>0.033333</td>\n",
       "      <td>0.050000</td>\n",
       "      <td>0.083333</td>\n",
       "      <td>0.100000</td>\n",
       "      <td>0.133333</td>\n",
       "      <td>0.100000</td>\n",
       "      <td>0.083333</td>\n",
       "      <td>0.050000</td>\n",
       "      <td>0.033333</td>\n",
       "      <td>0.016667</td>\n",
       "    </tr>\n",
       "    <tr>\n",
       "      <th>50%</th>\n",
       "      <td>0.033333</td>\n",
       "      <td>0.050000</td>\n",
       "      <td>0.083333</td>\n",
       "      <td>0.116667</td>\n",
       "      <td>0.133333</td>\n",
       "      <td>0.166667</td>\n",
       "      <td>0.133333</td>\n",
       "      <td>0.116667</td>\n",
       "      <td>0.083333</td>\n",
       "      <td>0.050000</td>\n",
       "      <td>0.033333</td>\n",
       "    </tr>\n",
       "    <tr>\n",
       "      <th>75%</th>\n",
       "      <td>0.033333</td>\n",
       "      <td>0.066667</td>\n",
       "      <td>0.100000</td>\n",
       "      <td>0.133333</td>\n",
       "      <td>0.166667</td>\n",
       "      <td>0.200000</td>\n",
       "      <td>0.166667</td>\n",
       "      <td>0.133333</td>\n",
       "      <td>0.100000</td>\n",
       "      <td>0.066667</td>\n",
       "      <td>0.033333</td>\n",
       "    </tr>\n",
       "    <tr>\n",
       "      <th>max</th>\n",
       "      <td>0.166667</td>\n",
       "      <td>0.216667</td>\n",
       "      <td>0.266667</td>\n",
       "      <td>0.316667</td>\n",
       "      <td>0.350000</td>\n",
       "      <td>0.400000</td>\n",
       "      <td>0.333333</td>\n",
       "      <td>0.300000</td>\n",
       "      <td>0.283333</td>\n",
       "      <td>0.233333</td>\n",
       "      <td>0.183333</td>\n",
       "    </tr>\n",
       "  </tbody>\n",
       "</table>\n",
       "</div>"
      ],
      "text/plain": [
       "                  2              3              4              5   \\\n",
       "count  100000.000000  100000.000000  100000.000000  100000.000000   \n",
       "mean        0.027869       0.055572       0.083308       0.111151   \n",
       "std         0.021302       0.029584       0.035745       0.040514   \n",
       "min         0.000000       0.000000       0.000000       0.000000   \n",
       "25%         0.016667       0.033333       0.050000       0.083333   \n",
       "50%         0.033333       0.050000       0.083333       0.116667   \n",
       "75%         0.033333       0.066667       0.100000       0.133333   \n",
       "max         0.166667       0.216667       0.266667       0.316667   \n",
       "\n",
       "                  6              7              8              9   \\\n",
       "count  100000.000000  100000.000000  100000.000000  100000.000000   \n",
       "mean        0.138790       0.166314       0.138999       0.111239   \n",
       "std         0.044660       0.048126       0.044614       0.040528   \n",
       "min         0.000000       0.000000       0.000000       0.000000   \n",
       "25%         0.100000       0.133333       0.100000       0.083333   \n",
       "50%         0.133333       0.166667       0.133333       0.116667   \n",
       "75%         0.166667       0.200000       0.166667       0.133333   \n",
       "max         0.350000       0.400000       0.333333       0.300000   \n",
       "\n",
       "                  10             11             12  \n",
       "count  100000.000000  100000.000000  100000.000000  \n",
       "mean        0.083418       0.055531       0.027810  \n",
       "std         0.035660       0.029544       0.021216  \n",
       "min         0.000000       0.000000       0.000000  \n",
       "25%         0.050000       0.033333       0.016667  \n",
       "50%         0.083333       0.050000       0.033333  \n",
       "75%         0.100000       0.066667       0.033333  \n",
       "max         0.283333       0.233333       0.183333  "
      ]
     },
     "execution_count": 23,
     "metadata": {},
     "output_type": "execute_result"
    }
   ],
   "source": [
    "turns, results = monteCarlo(100000,60)\n",
    "results.describe()"
   ]
  },
  {
   "cell_type": "code",
   "execution_count": 7,
   "metadata": {},
   "outputs": [
    {
     "data": {
      "text/plain": [
       "11"
      ]
     },
     "execution_count": 7,
     "metadata": {},
     "output_type": "execute_result"
    }
   ],
   "source": [
    "len(results.values[0])\n"
   ]
  },
  {
   "cell_type": "code",
   "execution_count": 29,
   "metadata": {},
   "outputs": [],
   "source": [
    "count1, count2 = 0, 0\n",
    "for row in results.values:\n",
    "    if row[10] > row[6]:\n",
    "        count1 +=1\n",
    "    if row[6] < row[10]:\n",
    "        count2 +=1"
   ]
  },
  {
   "cell_type": "code",
   "execution_count": 25,
   "metadata": {},
   "outputs": [
    {
     "data": {
      "text/plain": [
       "0.0662"
      ]
     },
     "execution_count": 25,
     "metadata": {},
     "output_type": "execute_result"
    }
   ],
   "source": [
    "count1/10000."
   ]
  },
  {
   "cell_type": "code",
   "execution_count": 30,
   "metadata": {},
   "outputs": [],
   "source": [
    "count3, count4 = 0, 0\n",
    "for row in results.values:\n",
    "    if row[0] > row[6]:\n",
    "        count3 +=1\n",
    "    if row[6] < row[0]:\n",
    "        count4 +=1"
   ]
  },
  {
   "cell_type": "code",
   "execution_count": 31,
   "metadata": {},
   "outputs": [
    {
     "data": {
      "text/plain": [
       "662"
      ]
     },
     "execution_count": 31,
     "metadata": {},
     "output_type": "execute_result"
    }
   ],
   "source": [
    "count1"
   ]
  },
  {
   "cell_type": "code",
   "execution_count": 32,
   "metadata": {},
   "outputs": [
    {
     "data": {
      "text/plain": [
       "709"
      ]
     },
     "execution_count": 32,
     "metadata": {},
     "output_type": "execute_result"
    }
   ],
   "source": [
    "count3"
   ]
  },
  {
   "cell_type": "code",
   "execution_count": null,
   "metadata": {},
   "outputs": [],
   "source": []
  }
 ],
 "metadata": {
  "anaconda-cloud": {},
  "kernelspec": {
   "display_name": "Python [conda env:anaconda2]",
   "language": "python",
   "name": "conda-env-anaconda2-py"
  },
  "language_info": {
   "codemirror_mode": {
    "name": "ipython",
    "version": 2
   },
   "file_extension": ".py",
   "mimetype": "text/x-python",
   "name": "python",
   "nbconvert_exporter": "python",
   "pygments_lexer": "ipython2",
   "version": "2.7.14"
  }
 },
 "nbformat": 4,
 "nbformat_minor": 2
}
