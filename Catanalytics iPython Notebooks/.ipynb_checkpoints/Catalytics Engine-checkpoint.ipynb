{
 "metadata": {
  "name": "",
  "signature": "sha256:2ea9edba3285ca641fa9b1439390491c6be41c7bcfd98e2a6624925a04dbb10e"
 },
 "nbformat": 3,
 "nbformat_minor": 0,
 "worksheets": [
  {
   "cells": [
    {
     "cell_type": "code",
     "collapsed": false,
     "input": [
      "import numpy as np\n",
      "import pandas as pd\n",
      "import matplotlib.pyplot as plt\n",
      "import seaborn as sns\n",
      "from collections import Counter\n",
      "import time\n",
      "\n",
      "%matplotlib inline"
     ],
     "language": "python",
     "metadata": {},
     "outputs": [],
     "prompt_number": 31
    },
    {
     "cell_type": "code",
     "collapsed": false,
     "input": [
      "\n",
      "\n",
      "count the number of times you achieve the basket in turn one, two, etc. up to specificied n"
     ],
     "language": "python",
     "metadata": {},
     "outputs": []
    },
    {
     "cell_type": "code",
     "collapsed": false,
     "input": [
      "# inputs -- to turn into interactive sliders\n",
      "iterations   = 10000\n",
      "turns        = 5\n",
      "production   = {'wood': [2], 'wheat': [3], 'brick': [4], 'ore': [5], 'sheep': [6]} # numbers here are dice numbers\n",
      "targetBasket = {'wood': 0, 'wheat': 0, 'brick': 0, 'ore': 1, 'sheep': 1} # numbers here are counts of resources \n",
      "\n",
      "#reference\n",
      "resources = ['wood', 'wheat', 'brick', 'ore', 'sheep']\n",
      "numberResources = len(resources)"
     ],
     "language": "python",
     "metadata": {},
     "outputs": [],
     "prompt_number": 12
    },
    {
     "cell_type": "code",
     "collapsed": false,
     "input": [
      "def check(cumProduction, targetBasket):\n",
      "    for resource in resources:\n",
      "        if cumProduction[resource] < targetBasket[resource]:\n",
      "            return 0\n",
      "    else:\n",
      "        return 1"
     ],
     "language": "python",
     "metadata": {},
     "outputs": [],
     "prompt_number": 14
    },
    {
     "cell_type": "code",
     "collapsed": false,
     "input": [
      "def catanSim(production, resources, targetBasket, turns = 5):\n",
      "    cumProduction = {'wood': 0, 'wheat': 0, 'brick': 0, 'ore': 0, 'sheep': 0}\n",
      "    basketCheck = []\n",
      "    \n",
      "    for i in xrange(turns):\n",
      "        dieRoll = np.random.randint(1,7) + np.random.randint(1,7)\n",
      "        for resource in resources:\n",
      "            for prod in production[resource]:  # loop through list of production values for each resource\n",
      "                if dieRoll == prod:\n",
      "                    cumProduction[resource] += 1\n",
      "                           \n",
      "        basketCheck.append(check(cumProduction, targetBasket))  # see if the target basket has been met\n",
      "        \n",
      "    return basketCheck # a list of 0's and 1's as long as the number of turns with 0 signifying that the basket was not \n",
      "                        # met in that turn and 1 meaning that it was\n",
      "            "
     ],
     "language": "python",
     "metadata": {},
     "outputs": [],
     "prompt_number": 19
    },
    {
     "cell_type": "code",
     "collapsed": false,
     "input": [
      "# put the thing in the right dimensions\n",
      "\n",
      "def monteCarlo(iterations): \n",
      "    resultList = []\n",
      "    for i in xrange(iterations):\n",
      "        resultList.append( catanSim(production, resources, targetBasket, turns) )\n",
      "        \n",
      "    results = pd.DataFrame(resultList)\n",
      "    \n",
      "    return results"
     ],
     "language": "python",
     "metadata": {},
     "outputs": [],
     "prompt_number": 28
    },
    {
     "cell_type": "code",
     "collapsed": false,
     "input": [
      "\n",
      "\n",
      "results = monteCarlo(10000)\n",
      "results.head()"
     ],
     "language": "python",
     "metadata": {},
     "outputs": [
      {
       "html": [
        "<div style=\"max-height:1000px;max-width:1500px;overflow:auto;\">\n",
        "<table border=\"1\" class=\"dataframe\">\n",
        "  <thead>\n",
        "    <tr style=\"text-align: right;\">\n",
        "      <th></th>\n",
        "      <th>0</th>\n",
        "      <th>1</th>\n",
        "      <th>2</th>\n",
        "      <th>3</th>\n",
        "      <th>4</th>\n",
        "    </tr>\n",
        "  </thead>\n",
        "  <tbody>\n",
        "    <tr>\n",
        "      <th>0</th>\n",
        "      <td> 0</td>\n",
        "      <td> 0</td>\n",
        "      <td> 0</td>\n",
        "      <td> 0</td>\n",
        "      <td> 0</td>\n",
        "    </tr>\n",
        "    <tr>\n",
        "      <th>1</th>\n",
        "      <td> 0</td>\n",
        "      <td> 0</td>\n",
        "      <td> 0</td>\n",
        "      <td> 0</td>\n",
        "      <td> 0</td>\n",
        "    </tr>\n",
        "    <tr>\n",
        "      <th>2</th>\n",
        "      <td> 0</td>\n",
        "      <td> 0</td>\n",
        "      <td> 0</td>\n",
        "      <td> 0</td>\n",
        "      <td> 1</td>\n",
        "    </tr>\n",
        "    <tr>\n",
        "      <th>3</th>\n",
        "      <td> 0</td>\n",
        "      <td> 0</td>\n",
        "      <td> 0</td>\n",
        "      <td> 0</td>\n",
        "      <td> 0</td>\n",
        "    </tr>\n",
        "    <tr>\n",
        "      <th>4</th>\n",
        "      <td> 0</td>\n",
        "      <td> 0</td>\n",
        "      <td> 0</td>\n",
        "      <td> 0</td>\n",
        "      <td> 0</td>\n",
        "    </tr>\n",
        "  </tbody>\n",
        "</table>\n",
        "</div>"
       ],
       "metadata": {},
       "output_type": "pyout",
       "prompt_number": 29,
       "text": [
        "   0  1  2  3  4\n",
        "0  0  0  0  0  0\n",
        "1  0  0  0  0  0\n",
        "2  0  0  0  0  1\n",
        "3  0  0  0  0  0\n",
        "4  0  0  0  0  0"
       ]
      }
     ],
     "prompt_number": 29
    },
    {
     "cell_type": "code",
     "collapsed": false,
     "input": [
      "plt.plot(results.mean())"
     ],
     "language": "python",
     "metadata": {},
     "outputs": [
      {
       "metadata": {},
       "output_type": "pyout",
       "prompt_number": 33,
       "text": [
        "[<matplotlib.lines.Line2D at 0x161aca20>]"
       ]
      },
      {
       "metadata": {},
       "output_type": "display_data",
       "png": "[encoded data removed]",
       "text": [
        "<matplotlib.figure.Figure at 0x1620f668>"
       ]
      }
     ],
     "prompt_number": 33
    },
    {
     "cell_type": "code",
     "collapsed": false,
     "input": [],
     "language": "python",
     "metadata": {},
     "outputs": []
    }
   ],
   "metadata": {}
  }
 ]
}