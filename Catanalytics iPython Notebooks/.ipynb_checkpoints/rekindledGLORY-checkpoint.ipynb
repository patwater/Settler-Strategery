{
 "metadata": {
  "name": "",
  "signature": "sha256:4259abfd9a94dad9833f054f17b7c7ddccf2baf4339cd5fab8af25e63670059e"
 },
 "nbformat": 3,
 "nbformat_minor": 0,
 "worksheets": [
  {
   "cells": [
    {
     "cell_type": "code",
     "collapsed": false,
     "input": [
      "import random"
     ],
     "language": "python",
     "metadata": {},
     "outputs": [],
     "prompt_number": 2
    },
    {
     "cell_type": "code",
     "collapsed": false,
     "input": [
      "rolls = 5\n",
      "#raw_input(\"watcha want\")\n",
      "basket = [1,0,0,0,0]\n",
      "#raw_input(\"How many of ('wood', 'wheat', 'brick', 'ore', 'sheep')?\")\n",
      "\n",
      "resources = ['wood', 'wheat', 'brick', 'ore', 'sheep']\n",
      "numberResources = len(resources)\n",
      "\n",
      "production = [[2, 2], [4, 6], [1, 11], [], [12]]\n",
      "histograms = [[0 for i in range(10*int(rolls))] for j in range(numberResources)]\n",
      "#resources = {'wood': [2, 2], 'wheat': [4,6], 'brick': [1,11], 'ore': [], 'sheep': [12]}\n",
      "\n",
      "iteration = 10000"
     ],
     "language": "python",
     "metadata": {},
     "outputs": [],
     "prompt_number": 3
    },
    {
     "cell_type": "code",
     "collapsed": false,
     "input": [
      "def checker(list, item):\n",
      "  count = 0\n",
      "  for i in list:\n",
      "    if i == item:\n",
      "      count += 1\n",
      "  return count"
     ],
     "language": "python",
     "metadata": {},
     "outputs": [],
     "prompt_number": 4
    },
    {
     "cell_type": "code",
     "collapsed": false,
     "input": [
      "def basket_checker(goal, obtained):\n",
      "  for i in xrange(numberResources):\n",
      "    if (obtained[i] < goal[i]):\n",
      "      return 0\n",
      "  return 1"
     ],
     "language": "python",
     "metadata": {},
     "outputs": [],
     "prompt_number": 5
    },
    {
     "cell_type": "code",
     "collapsed": false,
     "input": [
      "def sim(rolls, resources, iteration):\n",
      "  die_sum = 0\n",
      "  basket_count = 0 \n",
      "  for k in xrange(iteration):\n",
      "    numObtained = [0 for i in range(numberResources)]\n",
      "      \n",
      "    for i in xrange(rolls):\n",
      "      die_sum = random.randint(1,6) + random.randint(1,6)\n",
      "      for index in xrange(numberResources):\n",
      "        numObtained[index] += checker(production[index], die_sum)\n",
      "    \n",
      "    for index in xrange(numberResources):\n",
      "      histograms[index][numObtained[index]] += 1\n",
      "    \n",
      "    basket_count += basket_checker(basket, numObtained)\n",
      "        \n",
      "  return histograms, basket_count"
     ],
     "language": "python",
     "metadata": {},
     "outputs": [],
     "prompt_number": 6
    },
    {
     "cell_type": "code",
     "collapsed": false,
     "input": [
      "histograms, basket = sim(rolls, resources, iteration)"
     ],
     "language": "python",
     "metadata": {},
     "outputs": [],
     "prompt_number": 8
    },
    {
     "cell_type": "code",
     "collapsed": false,
     "input": [
      "basket"
     ],
     "language": "python",
     "metadata": {},
     "outputs": [
      {
       "metadata": {},
       "output_type": "pyout",
       "prompt_number": 12,
       "text": [
        "1364"
       ]
      }
     ],
     "prompt_number": 12
    },
    {
     "cell_type": "code",
     "collapsed": false,
     "input": [],
     "language": "python",
     "metadata": {},
     "outputs": []
    }
   ],
   "metadata": {}
  }
 ]
}