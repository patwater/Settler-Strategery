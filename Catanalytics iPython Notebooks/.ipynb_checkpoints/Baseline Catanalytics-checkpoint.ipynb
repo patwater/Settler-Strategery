{
 "metadata": {
  "name": "",
  "signature": "sha256:339becc6eafeac699b4fe52d11710cfa038f517299c2d58d73a67282525d5dee"
 },
 "nbformat": 3,
 "nbformat_minor": 0,
 "worksheets": [
  {
   "cells": [
    {
     "cell_type": "markdown",
     "metadata": {},
     "source": [
      "Greetings fellow Settlers of Catan enthusiasts:\n",
      "\n",
      "I put together this quick ipython notebook to tackle some basic questions about strategery in Settlers of Catan.  For instance: Is getting both a 3 and a 4 better than just one 8?  Analytically, the answer isn't immediately obvious.  For a single dice roll, the liklihood of an 8 is 5/36 and the probability of a 3 or 4 hitting on a single role is also 5/36 (individaully a 3 is 2/36 and 4 is 3/36 and since they're independent events the probability of either one happening is just their sum).\n",
      "\n",
      "That's a nontrivial question since often the choice comes up between a port with two production hexagons and an inland center with three.  Assuming one hexagon is the same between both, what is the relative liklihood of producing resources with an 8 on the 2 center port and a 3/4 on the inland center.  I then do the same thing for the comparative liklihood of two 8's versus a diverse portfolio with a 2,3,4,5 to further explore the \"number diversity is a smart play\" hypothesis.\n",
      "\n",
      "I then explore how rare \"wierd\" outcomes like a 2 hitting more than a 5 are over the course of a game.  Note I compute all these analytics with a monte carlo engine shown immediately below to simulate a larger number of games and use the law of large numbers to make inferences about the underlying liklihood of observed frequencies of a number hitting over the course of a game.\n",
      "\n",
      "None of this really goes beyond \"Stats 101\" though I'm planning to extend this into an interactive tool to compute the cumulative liklihood function of getting a discrete basket of goods over a horizon of turns.  So for instance: assumming I have 2 settlemenents with a 6 on wood, a 4 on brick, a 3 on wheat, and a 5 on sheep, what is the liklihood I have of being able to build a settlement cumulatively over each of the next five turns?\n",
      "\n",
      "We might even specificy a \"wildcard\" component ot the basket to identify whether or not you've gotten enough to trade for another resource component.  Anyway that's all for a future day so here's some quick baseline Catanalytics.\n",
      "\n",
      "Cheers,\n",
      "\n",
      "PA"
     ]
    },
    {
     "cell_type": "heading",
     "level": 2,
     "metadata": {},
     "source": [
      "Our Monte Carlo Catan Game Simulator"
     ]
    },
    {
     "cell_type": "code",
     "collapsed": false,
     "input": [
      "import numpy as np\n",
      "import pandas as pd\n",
      "import matplotlib.pyplot as plt\n",
      "import seaborn as sns\n",
      "from collections import Counter\n",
      "\n",
      "%matplotlib inline"
     ],
     "language": "python",
     "metadata": {},
     "outputs": [],
     "prompt_number": 40
    },
    {
     "cell_type": "code",
     "collapsed": false,
     "input": [
      "# our \n",
      "def catanSim(turns):\n",
      "    gameRolls = []\n",
      "    for i in xrange(turns):\n",
      "        dieRoll = np.random.randint(1,7)+np.random.randint(1,7)\n",
      "        gameRolls.append(dieRoll)\n",
      "    counts = Counter(gameRolls)\n",
      "    \n",
      "    gameProbs = {}\n",
      "    for i in counts: \n",
      "        gameProbs[i] = float(counts[i])/float(turns)\n",
      "        \n",
      "    return gameProbs"
     ],
     "language": "python",
     "metadata": {},
     "outputs": [],
     "prompt_number": 121
    },
    {
     "cell_type": "code",
     "collapsed": false,
     "input": [
      "def monteCarlo(iterations = 10000, turns = 60):\n",
      "    # instantiating our dataDict\n",
      "    simResults = {}\n",
      "    for i in xrange(2,13):\n",
      "        simResults[i] = []\n",
      "        \n",
      "    # running our \"games\" \n",
      "    for i in xrange(iterations):\n",
      "        oneGame = catanSim(turns) \n",
      "\n",
      "        for i in xrange(2,13):\n",
      "            simResults[i].append(oneGame.get(i,0))\n",
      "    \n",
      "    #putting into a dataframe b/c I'm lazy and like the built-in stats \n",
      "    df = pd.DataFrame()\n",
      "    for i in simResults:\n",
      "        df[i] = simResults[i]\n",
      "    \n",
      "    return turns, df"
     ],
     "language": "python",
     "metadata": {},
     "outputs": [],
     "prompt_number": 189
    },
    {
     "cell_type": "heading",
     "level": 2,
     "metadata": {},
     "source": [
      "Baseline frequencies from the law of large numbers"
     ]
    },
    {
     "cell_type": "code",
     "collapsed": false,
     "input": [
      "\n",
      "\n",
      "turns, results = monteCarlo(100000,60)\n",
      "results.describe()"
     ],
     "language": "python",
     "metadata": {},
     "outputs": [
      {
       "html": [
        "<div style=\"max-height:1000px;max-width:1500px;overflow:auto;\">\n",
        "<table border=\"1\" class=\"dataframe\">\n",
        "  <thead>\n",
        "    <tr style=\"text-align: right;\">\n",
        "      <th></th>\n",
        "      <th>2</th>\n",
        "      <th>3</th>\n",
        "      <th>4</th>\n",
        "      <th>5</th>\n",
        "      <th>6</th>\n",
        "      <th>7</th>\n",
        "      <th>8</th>\n",
        "      <th>9</th>\n",
        "      <th>10</th>\n",
        "      <th>11</th>\n",
        "      <th>12</th>\n",
        "    </tr>\n",
        "  </thead>\n",
        "  <tbody>\n",
        "    <tr>\n",
        "      <th>count</th>\n",
        "      <td> 100000.000000</td>\n",
        "      <td> 100000.000000</td>\n",
        "      <td> 100000.000000</td>\n",
        "      <td> 100000.000000</td>\n",
        "      <td> 100000.000000</td>\n",
        "      <td> 100000.000000</td>\n",
        "      <td> 100000.000000</td>\n",
        "      <td> 100000.000000</td>\n",
        "      <td> 100000.000000</td>\n",
        "      <td> 100000.000000</td>\n",
        "      <td> 100000.000000</td>\n",
        "    </tr>\n",
        "    <tr>\n",
        "      <th>mean</th>\n",
        "      <td>      0.027689</td>\n",
        "      <td>      0.055402</td>\n",
        "      <td>      0.083238</td>\n",
        "      <td>      0.111119</td>\n",
        "      <td>      0.138897</td>\n",
        "      <td>      0.166715</td>\n",
        "      <td>      0.139066</td>\n",
        "      <td>      0.111064</td>\n",
        "      <td>      0.083261</td>\n",
        "      <td>      0.055809</td>\n",
        "      <td>      0.027741</td>\n",
        "    </tr>\n",
        "    <tr>\n",
        "      <th>std</th>\n",
        "      <td>      0.021245</td>\n",
        "      <td>      0.029425</td>\n",
        "      <td>      0.035684</td>\n",
        "      <td>      0.040571</td>\n",
        "      <td>      0.044671</td>\n",
        "      <td>      0.048151</td>\n",
        "      <td>      0.044748</td>\n",
        "      <td>      0.040628</td>\n",
        "      <td>      0.035551</td>\n",
        "      <td>      0.029693</td>\n",
        "      <td>      0.021099</td>\n",
        "    </tr>\n",
        "    <tr>\n",
        "      <th>min</th>\n",
        "      <td>      0.000000</td>\n",
        "      <td>      0.000000</td>\n",
        "      <td>      0.000000</td>\n",
        "      <td>      0.000000</td>\n",
        "      <td>      0.000000</td>\n",
        "      <td>      0.016667</td>\n",
        "      <td>      0.000000</td>\n",
        "      <td>      0.000000</td>\n",
        "      <td>      0.000000</td>\n",
        "      <td>      0.000000</td>\n",
        "      <td>      0.000000</td>\n",
        "    </tr>\n",
        "    <tr>\n",
        "      <th>25%</th>\n",
        "      <td>      0.016667</td>\n",
        "      <td>      0.033333</td>\n",
        "      <td>      0.050000</td>\n",
        "      <td>      0.083333</td>\n",
        "      <td>      0.100000</td>\n",
        "      <td>      0.133333</td>\n",
        "      <td>      0.100000</td>\n",
        "      <td>      0.083333</td>\n",
        "      <td>      0.050000</td>\n",
        "      <td>      0.033333</td>\n",
        "      <td>      0.016667</td>\n",
        "    </tr>\n",
        "    <tr>\n",
        "      <th>50%</th>\n",
        "      <td>      0.016667</td>\n",
        "      <td>      0.050000</td>\n",
        "      <td>      0.083333</td>\n",
        "      <td>      0.116667</td>\n",
        "      <td>      0.133333</td>\n",
        "      <td>      0.166667</td>\n",
        "      <td>      0.133333</td>\n",
        "      <td>      0.116667</td>\n",
        "      <td>      0.083333</td>\n",
        "      <td>      0.050000</td>\n",
        "      <td>      0.033333</td>\n",
        "    </tr>\n",
        "    <tr>\n",
        "      <th>75%</th>\n",
        "      <td>      0.033333</td>\n",
        "      <td>      0.066667</td>\n",
        "      <td>      0.100000</td>\n",
        "      <td>      0.133333</td>\n",
        "      <td>      0.166667</td>\n",
        "      <td>      0.200000</td>\n",
        "      <td>      0.166667</td>\n",
        "      <td>      0.133333</td>\n",
        "      <td>      0.100000</td>\n",
        "      <td>      0.066667</td>\n",
        "      <td>      0.033333</td>\n",
        "    </tr>\n",
        "    <tr>\n",
        "      <th>max</th>\n",
        "      <td>      0.133333</td>\n",
        "      <td>      0.233333</td>\n",
        "      <td>      0.283333</td>\n",
        "      <td>      0.333333</td>\n",
        "      <td>      0.366667</td>\n",
        "      <td>      0.383333</td>\n",
        "      <td>      0.366667</td>\n",
        "      <td>      0.316667</td>\n",
        "      <td>      0.283333</td>\n",
        "      <td>      0.200000</td>\n",
        "      <td>      0.150000</td>\n",
        "    </tr>\n",
        "  </tbody>\n",
        "</table>\n",
        "</div>"
       ],
       "metadata": {},
       "output_type": "pyout",
       "prompt_number": 240,
       "text": [
        "                  2              3              4              5   \\\n",
        "count  100000.000000  100000.000000  100000.000000  100000.000000   \n",
        "mean        0.027689       0.055402       0.083238       0.111119   \n",
        "std         0.021245       0.029425       0.035684       0.040571   \n",
        "min         0.000000       0.000000       0.000000       0.000000   \n",
        "25%         0.016667       0.033333       0.050000       0.083333   \n",
        "50%         0.016667       0.050000       0.083333       0.116667   \n",
        "75%         0.033333       0.066667       0.100000       0.133333   \n",
        "max         0.133333       0.233333       0.283333       0.333333   \n",
        "\n",
        "                  6              7              8              9   \\\n",
        "count  100000.000000  100000.000000  100000.000000  100000.000000   \n",
        "mean        0.138897       0.166715       0.139066       0.111064   \n",
        "std         0.044671       0.048151       0.044748       0.040628   \n",
        "min         0.000000       0.016667       0.000000       0.000000   \n",
        "25%         0.100000       0.133333       0.100000       0.083333   \n",
        "50%         0.133333       0.166667       0.133333       0.116667   \n",
        "75%         0.166667       0.200000       0.166667       0.133333   \n",
        "max         0.366667       0.383333       0.366667       0.316667   \n",
        "\n",
        "                  10             11             12  \n",
        "count  100000.000000  100000.000000  100000.000000  \n",
        "mean        0.083261       0.055809       0.027741  \n",
        "std         0.035551       0.029693       0.021099  \n",
        "min         0.000000       0.000000       0.000000  \n",
        "25%         0.050000       0.033333       0.016667  \n",
        "50%         0.083333       0.050000       0.033333  \n",
        "75%         0.100000       0.066667       0.033333  \n",
        "max         0.283333       0.200000       0.150000  "
       ]
      }
     ],
     "prompt_number": 240
    },
    {
     "cell_type": "heading",
     "level": 2,
     "metadata": {},
     "source": [
      "Is a single 8 producting better or worse than having both a 3 and 4?"
     ]
    },
    {
     "cell_type": "code",
     "collapsed": false,
     "input": [
      "def func(a,b):\n",
      "    return a + b # I know super lame right?  \n",
      "\n",
      "# map doesn't take sum or np.num as an arg though and I don't know an easier way to combine to columns\n",
      "# any pro tips would be greatly appreciated?"
     ],
     "language": "python",
     "metadata": {},
     "outputs": [],
     "prompt_number": 162
    },
    {
     "cell_type": "code",
     "collapsed": false,
     "input": [
      "plt.hist(map(func, results[3], results[4]), alpha = .5, bins = bins)\n",
      "plt.hist(results[8], alpha = .5, bins = bins)"
     ],
     "language": "python",
     "metadata": {},
     "outputs": [
      {
       "metadata": {},
       "output_type": "pyout",
       "prompt_number": 193,
       "text": [
        "(array([  1.40000000e+01,   6.50000000e+01,   5.79000000e+02,\n",
        "          7.40000000e+02,   1.09400000e+03,   2.87400000e+03,\n",
        "          1.42200000e+03,   2.01600000e+03,   5.19000000e+02,\n",
        "          3.51000000e+02,   2.58000000e+02,   3.40000000e+01,\n",
        "          2.80000000e+01,   5.00000000e+00,   1.00000000e+00]),\n",
        " array([ 0.        ,  0.02333333,  0.04666667,  0.07      ,  0.09333333,\n",
        "         0.11666667,  0.14      ,  0.16333333,  0.18666667,  0.21      ,\n",
        "         0.23333333,  0.25666667,  0.28      ,  0.30333333,  0.32666667,\n",
        "         0.35      ]),\n",
        " <a list of 15 Patch objects>)"
       ]
      },
      {
       "metadata": {},
       "output_type": "display_data",
       "png": "[encoded data removed]",
       "text": [
        "<matplotlib.figure.Figure at 0x16b4b198>"
       ]
      }
     ],
     "prompt_number": 193
    },
    {
     "cell_type": "markdown",
     "metadata": {},
     "source": [
      "You might be tempted to think this histogram is a numerical representation of a probability of a probability (so meta right?).  That's \n",
      "\n",
      "This is a numerical approximation of the liklihood function for the frequencies of when a hexagon \"hits\" or produces resources in Settlers of Catan.\n",
      "\n",
      "Liklihood of the frequency -- sorta -- look up liklihood and probability again\n",
      "\n",
      "Also query: the shape of these two distributions \"looks\" very different but they have almost identical first and second order statistical moment.  Also if you run this several times each distribution \"looks\" a bit different, at least more than I'd expect given essentially the same summary statistics.  Anyone have any idea why?  Is there something going on with skewness and kurtosis?\n",
      "\n",
      "Maybe if stop being lazing I'll throw my simulation in a loop and show the histograms one on top of each other."
     ]
    },
    {
     "cell_type": "code",
     "collapsed": false,
     "input": [
      "results[34] = map(func, results[3], results[4])\n",
      "results[[8,34]].describe()"
     ],
     "language": "python",
     "metadata": {},
     "outputs": [
      {
       "html": [
        "<div style=\"max-height:1000px;max-width:1500px;overflow:auto;\">\n",
        "<table border=\"1\" class=\"dataframe\">\n",
        "  <thead>\n",
        "    <tr style=\"text-align: right;\">\n",
        "      <th></th>\n",
        "      <th>8</th>\n",
        "      <th>34</th>\n",
        "    </tr>\n",
        "  </thead>\n",
        "  <tbody>\n",
        "    <tr>\n",
        "      <th>count</th>\n",
        "      <td> 100000.000000</td>\n",
        "      <td> 100000.000000</td>\n",
        "    </tr>\n",
        "    <tr>\n",
        "      <th>mean</th>\n",
        "      <td>      0.139043</td>\n",
        "      <td>      0.139227</td>\n",
        "    </tr>\n",
        "    <tr>\n",
        "      <th>std</th>\n",
        "      <td>      0.063236</td>\n",
        "      <td>      0.063535</td>\n",
        "    </tr>\n",
        "    <tr>\n",
        "      <th>min</th>\n",
        "      <td>      0.000000</td>\n",
        "      <td>      0.000000</td>\n",
        "    </tr>\n",
        "    <tr>\n",
        "      <th>25%</th>\n",
        "      <td>      0.100000</td>\n",
        "      <td>      0.100000</td>\n",
        "    </tr>\n",
        "    <tr>\n",
        "      <th>50%</th>\n",
        "      <td>      0.133333</td>\n",
        "      <td>      0.133333</td>\n",
        "    </tr>\n",
        "    <tr>\n",
        "      <th>75%</th>\n",
        "      <td>      0.166667</td>\n",
        "      <td>      0.166667</td>\n",
        "    </tr>\n",
        "    <tr>\n",
        "      <th>max</th>\n",
        "      <td>      0.466667</td>\n",
        "      <td>      0.466667</td>\n",
        "    </tr>\n",
        "  </tbody>\n",
        "</table>\n",
        "</div>"
       ],
       "metadata": {},
       "output_type": "pyout",
       "prompt_number": 222,
       "text": [
        "                  8              34\n",
        "count  100000.000000  100000.000000\n",
        "mean        0.139043       0.139227\n",
        "std         0.063236       0.063535\n",
        "min         0.000000       0.000000\n",
        "25%         0.100000       0.100000\n",
        "50%         0.133333       0.133333\n",
        "75%         0.166667       0.166667\n",
        "max         0.466667       0.466667"
       ]
      }
     ],
     "prompt_number": 222
    },
    {
     "cell_type": "code",
     "collapsed": false,
     "input": [
      "results[25] = map(func, results[2], results[5])\n",
      "results[[8,25]].describe()"
     ],
     "language": "python",
     "metadata": {},
     "outputs": [
      {
       "html": [
        "<div style=\"max-height:1000px;max-width:1500px;overflow:auto;\">\n",
        "<table border=\"1\" class=\"dataframe\">\n",
        "  <thead>\n",
        "    <tr style=\"text-align: right;\">\n",
        "      <th></th>\n",
        "      <th>8</th>\n",
        "      <th>25</th>\n",
        "    </tr>\n",
        "  </thead>\n",
        "  <tbody>\n",
        "    <tr>\n",
        "      <th>count</th>\n",
        "      <td> 100000.000000</td>\n",
        "      <td> 100000.000000</td>\n",
        "    </tr>\n",
        "    <tr>\n",
        "      <th>mean</th>\n",
        "      <td>      0.139043</td>\n",
        "      <td>      0.138774</td>\n",
        "    </tr>\n",
        "    <tr>\n",
        "      <th>std</th>\n",
        "      <td>      0.063236</td>\n",
        "      <td>      0.062873</td>\n",
        "    </tr>\n",
        "    <tr>\n",
        "      <th>min</th>\n",
        "      <td>      0.000000</td>\n",
        "      <td>      0.000000</td>\n",
        "    </tr>\n",
        "    <tr>\n",
        "      <th>25%</th>\n",
        "      <td>      0.100000</td>\n",
        "      <td>      0.100000</td>\n",
        "    </tr>\n",
        "    <tr>\n",
        "      <th>50%</th>\n",
        "      <td>      0.133333</td>\n",
        "      <td>      0.133333</td>\n",
        "    </tr>\n",
        "    <tr>\n",
        "      <th>75%</th>\n",
        "      <td>      0.166667</td>\n",
        "      <td>      0.166667</td>\n",
        "    </tr>\n",
        "    <tr>\n",
        "      <th>max</th>\n",
        "      <td>      0.466667</td>\n",
        "      <td>      0.566667</td>\n",
        "    </tr>\n",
        "  </tbody>\n",
        "</table>\n",
        "</div>"
       ],
       "metadata": {},
       "output_type": "pyout",
       "prompt_number": 223,
       "text": [
        "                  8              25\n",
        "count  100000.000000  100000.000000\n",
        "mean        0.139043       0.138774\n",
        "std         0.063236       0.062873\n",
        "min         0.000000       0.000000\n",
        "25%         0.100000       0.100000\n",
        "50%         0.133333       0.133333\n",
        "75%         0.166667       0.166667\n",
        "max         0.466667       0.566667"
       ]
      }
     ],
     "prompt_number": 223
    },
    {
     "cell_type": "markdown",
     "metadata": {},
     "source": [
      "But maybe the number of times one happens more than the other differs?  "
     ]
    },
    {
     "cell_type": "code",
     "collapsed": false,
     "input": [
      "count1, count2 = 0, 0\n",
      "for row in results.values:\n",
      "    if row[8-2] > row[12]:\n",
      "        count1 +=1\n",
      "    if row[8-2] < row[12]:\n",
      "        count2 +=1"
     ],
     "language": "python",
     "metadata": {},
     "outputs": [],
     "prompt_number": 224
    },
    {
     "cell_type": "code",
     "collapsed": false,
     "input": [
      "print count1, len(results) - count1 - count2, float(count1)/float(count1+count2)"
     ],
     "language": "python",
     "metadata": {},
     "outputs": [
      {
       "output_type": "stream",
       "stream": "stdout",
       "text": [
        "43691 12556 0.499645487398\n"
       ]
      }
     ],
     "prompt_number": 225
    },
    {
     "cell_type": "code",
     "collapsed": false,
     "input": [
      "count1, count2 = 0, 0\n",
      "for row in results.values:\n",
      "    if row[8-2] > row[11]:\n",
      "        count1 +=1\n",
      "    if row[8-2] < row[11]:\n",
      "        count2 +=1"
     ],
     "language": "python",
     "metadata": {},
     "outputs": [],
     "prompt_number": 226
    },
    {
     "cell_type": "code",
     "collapsed": false,
     "input": [
      "print count1, len(results) - count1 - count2, float(count1)/float(count1+count2)"
     ],
     "language": "python",
     "metadata": {},
     "outputs": [
      {
       "output_type": "stream",
       "stream": "stdout",
       "text": [
        "43394 11846 0.492252195022\n"
       ]
      }
     ],
     "prompt_number": 227
    },
    {
     "cell_type": "code",
     "collapsed": false,
     "input": [
      "count1, count2 = 0, 0\n",
      "for row in results.values:\n",
      "    if row[12] > row[11]:\n",
      "        count1 +=1\n",
      "    if row[12] < row[11]:\n",
      "        count2 +=1"
     ],
     "language": "python",
     "metadata": {},
     "outputs": [],
     "prompt_number": 228
    },
    {
     "cell_type": "code",
     "collapsed": false,
     "input": [
      "print count1, len(results) - count1 - count2, float(count1)/float(count1+count2)"
     ],
     "language": "python",
     "metadata": {},
     "outputs": [
      {
       "output_type": "stream",
       "stream": "stdout",
       "text": [
        "43530 11646 0.49267718496\n"
       ]
      }
     ],
     "prompt_number": 229
    },
    {
     "cell_type": "markdown",
     "metadata": {},
     "source": [
      "Nope.  These are all pretty much a coin flip"
     ]
    },
    {
     "cell_type": "heading",
     "level": 2,
     "metadata": {},
     "source": [
      "Is a diverse portfolio better than doubling up on the same number?  For example is 2,3,4, and 5 (cumulative 10 dots) better than just two 8's (also 10 dots)?  "
     ]
    },
    {
     "cell_type": "code",
     "collapsed": false,
     "input": [
      "def func2(a):\n",
      "    return a*2\n",
      "\n",
      "def func3(a,b,c,d):\n",
      "    return a + b + c + d "
     ],
     "language": "python",
     "metadata": {},
     "outputs": [],
     "prompt_number": 235
    },
    {
     "cell_type": "code",
     "collapsed": false,
     "input": [
      "# 60 turns a game\n",
      "results[88]   = map(func2, results[8])\n",
      "results[2345] = map(func3, results[2], results[3], results[4], results[5])\n",
      "results[[88,2345]].describe()"
     ],
     "language": "python",
     "metadata": {},
     "outputs": [
      {
       "html": [
        "<div style=\"max-height:1000px;max-width:1500px;overflow:auto;\">\n",
        "<table border=\"1\" class=\"dataframe\">\n",
        "  <thead>\n",
        "    <tr style=\"text-align: right;\">\n",
        "      <th></th>\n",
        "      <th>88</th>\n",
        "      <th>2345</th>\n",
        "    </tr>\n",
        "  </thead>\n",
        "  <tbody>\n",
        "    <tr>\n",
        "      <th>count</th>\n",
        "      <td> 100000.000000</td>\n",
        "      <td> 100000.000000</td>\n",
        "    </tr>\n",
        "    <tr>\n",
        "      <th>mean</th>\n",
        "      <td>      0.278132</td>\n",
        "      <td>      0.277447</td>\n",
        "    </tr>\n",
        "    <tr>\n",
        "      <th>std</th>\n",
        "      <td>      0.089497</td>\n",
        "      <td>      0.057676</td>\n",
        "    </tr>\n",
        "    <tr>\n",
        "      <th>min</th>\n",
        "      <td>      0.000000</td>\n",
        "      <td>      0.050000</td>\n",
        "    </tr>\n",
        "    <tr>\n",
        "      <th>25%</th>\n",
        "      <td>      0.200000</td>\n",
        "      <td>      0.233333</td>\n",
        "    </tr>\n",
        "    <tr>\n",
        "      <th>50%</th>\n",
        "      <td>      0.266667</td>\n",
        "      <td>      0.283333</td>\n",
        "    </tr>\n",
        "    <tr>\n",
        "      <th>75%</th>\n",
        "      <td>      0.333333</td>\n",
        "      <td>      0.316667</td>\n",
        "    </tr>\n",
        "    <tr>\n",
        "      <th>max</th>\n",
        "      <td>      0.733333</td>\n",
        "      <td>      0.533333</td>\n",
        "    </tr>\n",
        "  </tbody>\n",
        "</table>\n",
        "</div>"
       ],
       "metadata": {},
       "output_type": "pyout",
       "prompt_number": 241,
       "text": [
        "                88             2345\n",
        "count  100000.000000  100000.000000\n",
        "mean        0.278132       0.277447\n",
        "std         0.089497       0.057676\n",
        "min         0.000000       0.050000\n",
        "25%         0.200000       0.233333\n",
        "50%         0.266667       0.283333\n",
        "75%         0.333333       0.316667\n",
        "max         0.733333       0.533333"
       ]
      }
     ],
     "prompt_number": 241
    },
    {
     "cell_type": "code",
     "collapsed": false,
     "input": [
      "# 60 turns a game -- note the ratio of ~1.5 to 1 from std_dev(88) to std_dev(2345) is preserved.  I wonder if that's a thing\n",
      "results[88]   = map(func2, results[8])\n",
      "results[2345] = map(func3, results[2], results[3], results[4], results[5])\n",
      "results[[88,2345]].describe()"
     ],
     "language": "python",
     "metadata": {},
     "outputs": [
      {
       "html": [
        "<div style=\"max-height:1000px;max-width:1500px;overflow:auto;\">\n",
        "<table border=\"1\" class=\"dataframe\">\n",
        "  <thead>\n",
        "    <tr style=\"text-align: right;\">\n",
        "      <th></th>\n",
        "      <th>88</th>\n",
        "      <th>2345</th>\n",
        "    </tr>\n",
        "  </thead>\n",
        "  <tbody>\n",
        "    <tr>\n",
        "      <th>count</th>\n",
        "      <td> 100000.000000</td>\n",
        "      <td> 100000.000000</td>\n",
        "    </tr>\n",
        "    <tr>\n",
        "      <th>mean</th>\n",
        "      <td>      0.278087</td>\n",
        "      <td>      0.278001</td>\n",
        "    </tr>\n",
        "    <tr>\n",
        "      <th>std</th>\n",
        "      <td>      0.126472</td>\n",
        "      <td>      0.081721</td>\n",
        "    </tr>\n",
        "    <tr>\n",
        "      <th>min</th>\n",
        "      <td>      0.000000</td>\n",
        "      <td>      0.000000</td>\n",
        "    </tr>\n",
        "    <tr>\n",
        "      <th>25%</th>\n",
        "      <td>      0.200000</td>\n",
        "      <td>      0.233333</td>\n",
        "    </tr>\n",
        "    <tr>\n",
        "      <th>50%</th>\n",
        "      <td>      0.266667</td>\n",
        "      <td>      0.266667</td>\n",
        "    </tr>\n",
        "    <tr>\n",
        "      <th>75%</th>\n",
        "      <td>      0.333333</td>\n",
        "      <td>      0.333333</td>\n",
        "    </tr>\n",
        "    <tr>\n",
        "      <th>max</th>\n",
        "      <td>      0.933333</td>\n",
        "      <td>      0.666667</td>\n",
        "    </tr>\n",
        "  </tbody>\n",
        "</table>\n",
        "</div>"
       ],
       "metadata": {},
       "output_type": "pyout",
       "prompt_number": 237,
       "text": [
        "                88             2345\n",
        "count  100000.000000  100000.000000\n",
        "mean        0.278087       0.278001\n",
        "std         0.126472       0.081721\n",
        "min         0.000000       0.000000\n",
        "25%         0.200000       0.233333\n",
        "50%         0.266667       0.266667\n",
        "75%         0.333333       0.333333\n",
        "max         0.933333       0.666667"
       ]
      }
     ],
     "prompt_number": 237
    },
    {
     "cell_type": "code",
     "collapsed": false,
     "input": [
      "plt.hist(results[88], alpha = .5, bins = bins)\n",
      "plt.hist(results[2345], alpha = .5, bins = bins)"
     ],
     "language": "python",
     "metadata": {},
     "outputs": [
      {
       "metadata": {},
       "output_type": "pyout",
       "prompt_number": 238,
       "text": [
        "(array([  6.70000000e+01,   3.60000000e+02,   1.33200000e+03,\n",
        "          1.02460000e+04,   1.11900000e+04,   1.45660000e+04,\n",
        "          3.11070000e+04,   1.24880000e+04,   8.61200000e+03,\n",
        "          7.98200000e+03,   1.23800000e+03,   5.22000000e+02,\n",
        "          2.68000000e+02,   1.70000000e+01,   5.00000000e+00]),\n",
        " array([ 0.        ,  0.04444444,  0.08888889,  0.13333333,  0.17777778,\n",
        "         0.22222222,  0.26666667,  0.31111111,  0.35555556,  0.4       ,\n",
        "         0.44444444,  0.48888889,  0.53333333,  0.57777778,  0.62222222,\n",
        "         0.66666667]),\n",
        " <a list of 15 Patch objects>)"
       ]
      },
      {
       "metadata": {},
       "output_type": "display_data",
       "png": "[encoded data removed]",
       "text": [
        "<matplotlib.figure.Figure at 0x1c59f9b0>"
       ]
      }
     ],
     "prompt_number": 238
    },
    {
     "cell_type": "markdown",
     "metadata": {},
     "source": [
      "So here the choice really comes down to how much variation you want.  "
     ]
    },
    {
     "cell_type": "heading",
     "level": 2,
     "metadata": {},
     "source": [
      "Are wierd outcomes really all that wierd?"
     ]
    },
    {
     "cell_type": "markdown",
     "metadata": {},
     "source": [
      "Here I'm defining wierd outcomes as a game where any number hits more than a number with 2 more dots.  So a 2 hitting more than a 4, 3 more than a 5 etc., etc."
     ]
    },
    {
     "cell_type": "code",
     "collapsed": false,
     "input": [
      "countList = []\n",
      "\n",
      "for row in results.values:\n",
      "    count1 = 0\n",
      "    for i in xrange(2,6): \n",
      "        if row[i] > row[i+2] or row[i] > row[12 - i]:\n",
      "            count1 +=1    \n",
      "    for i in xrange(9,13):\n",
      "        if row[i] > row[i-2] or row[i] > row[16-i]:\n",
      "            count1 +=1\n",
      "    \n",
      "    countList.append(count1)"
     ],
     "language": "python",
     "metadata": {},
     "outputs": [],
     "prompt_number": 277
    },
    {
     "cell_type": "code",
     "collapsed": false,
     "input": [
      "results['wierd'] = countList"
     ],
     "language": "python",
     "metadata": {},
     "outputs": [],
     "prompt_number": 278
    },
    {
     "cell_type": "code",
     "collapsed": false,
     "input": [
      "results['wierd'].describe()"
     ],
     "language": "python",
     "metadata": {},
     "outputs": [
      {
       "metadata": {},
       "output_type": "pyout",
       "prompt_number": 279,
       "text": [
        "count    100000.000000\n",
        "mean          5.435440\n",
        "std           0.849046\n",
        "min           1.000000\n",
        "25%           5.000000\n",
        "50%           6.000000\n",
        "75%           6.000000\n",
        "max           8.000000\n",
        "Name: wierd, dtype: float64"
       ]
      }
     ],
     "prompt_number": 279
    },
    {
     "cell_type": "code",
     "collapsed": false,
     "input": [
      "plt.hist(results['wierd'], bins = 6)"
     ],
     "language": "python",
     "metadata": {},
     "outputs": [
      {
       "metadata": {},
       "output_type": "pyout",
       "prompt_number": 280,
       "text": [
        "(array([    95.,   1601.,  11227.,  35753.,  44602.,   6722.]),\n",
        " array([ 1.        ,  2.16666667,  3.33333333,  4.5       ,  5.66666667,\n",
        "         6.83333333,  8.        ]),\n",
        " <a list of 6 Patch objects>)"
       ]
      },
      {
       "metadata": {},
       "output_type": "display_data",
       "png": "[encoded data removed]",
       "text": [
        "<matplotlib.figure.Figure at 0x25251390>"
       ]
      }
     ],
     "prompt_number": 280
    },
    {
     "cell_type": "code",
     "collapsed": false,
     "input": [
      "results['wierd'].value_counts()"
     ],
     "language": "python",
     "metadata": {},
     "outputs": [
      {
       "metadata": {},
       "output_type": "pyout",
       "prompt_number": 281,
       "text": [
        "6    44602\n",
        "5    35753\n",
        "4    11227\n",
        "7     6509\n",
        "3     1601\n",
        "8      213\n",
        "2       94\n",
        "1        1\n",
        "dtype: int64"
       ]
      }
     ],
     "prompt_number": 281
    },
    {
     "cell_type": "markdown",
     "metadata": {},
     "source": [
      "We can do the same thing for a number hitting more than a number with three dots."
     ]
    },
    {
     "cell_type": "code",
     "collapsed": false,
     "input": [
      "countList = []\n",
      "\n",
      "# NOTE THIS IS JUST ONE HALF THE SAMPLE SPACE\n",
      "\n",
      "for row in results.values:\n",
      "    count1 = 0\n",
      "    for i in xrange(2,5): \n",
      "        if row[i] > row[i+3] or row[i] > row[11 - i]:\n",
      "            count1 +=1    \n",
      "    for i in xrange(10,13):\n",
      "        if row[i] > row[i-3] or row[i] > row[17-i]:\n",
      "            count1 +=1\n",
      "    \n",
      "    countList.append(count1)"
     ],
     "language": "python",
     "metadata": {},
     "outputs": [],
     "prompt_number": 283
    },
    {
     "cell_type": "code",
     "collapsed": false,
     "input": [
      "plt.hist(countList, bins =6)"
     ],
     "language": "python",
     "metadata": {},
     "outputs": [
      {
       "metadata": {},
       "output_type": "pyout",
       "prompt_number": 284,
       "text": [
        "(array([  1.40000000e+01,   4.20400000e+03,   2.34790000e+04,\n",
        "          4.39570000e+04,   2.74850000e+04,   8.61000000e+02]),\n",
        " array([ 1.        ,  1.83333333,  2.66666667,  3.5       ,  4.33333333,\n",
        "         5.16666667,  6.        ]),\n",
        " <a list of 6 Patch objects>)"
       ]
      },
      {
       "metadata": {},
       "output_type": "display_data",
       "png": "[encoded data removed]",
       "text": [
        "<matplotlib.figure.Figure at 0x24ac7550>"
       ]
      }
     ],
     "prompt_number": 284
    },
    {
     "cell_type": "code",
     "collapsed": false,
     "input": [
      "results['wierd'] = countList\n",
      "results['wierd'].describe()"
     ],
     "language": "python",
     "metadata": {},
     "outputs": [
      {
       "metadata": {},
       "output_type": "pyout",
       "prompt_number": 285,
       "text": [
        "count    100000.000000\n",
        "mean          3.972780\n",
        "std           0.844255\n",
        "min           1.000000\n",
        "25%           3.000000\n",
        "50%           4.000000\n",
        "75%           5.000000\n",
        "max           6.000000\n",
        "Name: wierd, dtype: float64"
       ]
      }
     ],
     "prompt_number": 285
    },
    {
     "cell_type": "code",
     "collapsed": false,
     "input": [
      "results['wierd'].value_counts()"
     ],
     "language": "python",
     "metadata": {},
     "outputs": [
      {
       "metadata": {},
       "output_type": "pyout",
       "prompt_number": 286,
       "text": [
        "4    43957\n",
        "5    27485\n",
        "3    23479\n",
        "2     4204\n",
        "6      861\n",
        "1       14\n",
        "dtype: int64"
       ]
      }
     ],
     "prompt_number": 286
    },
    {
     "cell_type": "markdown",
     "metadata": {},
     "source": [
      "Note how rare this not happening is."
     ]
    },
    {
     "cell_type": "markdown",
     "metadata": {},
     "source": []
    }
   ],
   "metadata": {}
  }
 ]
}